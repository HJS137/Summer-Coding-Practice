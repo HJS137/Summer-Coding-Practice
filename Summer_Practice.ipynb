{
  "cells": [
    {
      "cell_type": "markdown",
      "metadata": {
        "id": "view-in-github",
        "colab_type": "text"
      },
      "source": [
        "<a href=\"https://colab.research.google.com/github/HJS137/Summer-Coding-Practice/blob/main/Summer_Practice.ipynb\" target=\"_parent\"><img src=\"https://colab.research.google.com/assets/colab-badge.svg\" alt=\"Open In Colab\"/></a>"
      ]
    },
    {
      "cell_type": "code",
      "execution_count": null,
      "metadata": {
        "colab": {
          "base_uri": "https://localhost:8080/"
        },
        "id": "x_UhbLNL1o_a",
        "outputId": "ee856f7d-f228-44bb-b49a-4ac70fde5550"
      },
      "outputs": [
        {
          "name": "stdout",
          "output_type": "stream",
          "text": [
            "subscribe to Ishowspeed\n",
            "subscribe to Ishowspeed\n",
            "subscribe to Ishowspeed\n"
          ]
        }
      ],
      "source": [
        "# String concatenation (aka how to put strings together)\n",
        "# suppose we want to create a string that says \"subscribe to ______\"\n",
        "youtuber = \"Ishowspeed\" # some string variable \n",
        "print(\"subscribe to \" + youtuber)\n",
        "print(\"subscribe to {}\".format(youtuber))\n",
        "print(f\"subscribe to {youtuber}\")\n"
      ]
    },
    {
      "cell_type": "code",
      "execution_count": null,
      "metadata": {
        "colab": {
          "base_uri": "https://localhost:8080/"
        },
        "id": "xfbPV1bB3eKN",
        "outputId": "216fac35-c32b-4bd1-e30c-77aab7145ab1"
      },
      "outputs": [
        {
          "name": "stdout",
          "output_type": "stream",
          "text": [
            "Adjective: amazing\n",
            "Verb: skydive\n",
            "Verb: jump\n",
            "Famous person: captain america\n",
            "Computer programming is so amazing! It makes me so excited all the time because  I love to skydive. Stay hydrated and jump like you are captain america\n"
          ]
        }
      ],
      "source": [
        "adj = input(\"Adjective: \")\n",
        "verb1 = input(\"Verb: \")\n",
        "verb2 = input(\"Verb: \")\n",
        "famous_person = input(\"Famous person: \")\n",
        "madlib = f\"Computer programming is so {adj}! It makes me so excited all the time because \\\n",
        " I love to {verb1}. Stay hydrated and {verb2} like you are {famous_person}\" \n",
        "print(madlib)"
      ]
    },
    {
      "cell_type": "code",
      "execution_count": null,
      "metadata": {
        "colab": {
          "base_uri": "https://localhost:8080/"
        },
        "id": "ekycOLbK4r3L",
        "outputId": "6eadd7cd-7cae-486a-a663-626f454b99c9"
      },
      "outputs": [
        {
          "metadata": {
            "tags": null
          },
          "name": "stdout",
          "output_type": "stream",
          "text": [
            "yay, computer guess your number, <function guess at 0x7efca41247a0>, correctly!\n",
            "Sorry, guess again. Too high.\n",
            "Sorry, guess again. Too low.\n"
          ]
        }
      ],
      "source": [
        "#guess the number\n",
        "import random\n",
        "\n",
        "\n",
        "def guess(x):\n",
        "  random_number = random.randint(1, x)\n",
        "  guess = 0\n",
        "  while guess != random_number:\n",
        "    guess = int(input(f'Guess a number between 1 and {x}: '))\n",
        "    if guess < random_number:\n",
        "      print('Sorry, guess again. Too low.')\n",
        "    elif guess > random_number:\n",
        "        print('Sorry, guess again. Too high.')\n",
        "\n",
        "  print('Congrats, you have guessed the correct number')\n",
        "\n",
        "\n",
        "\n",
        "\n",
        "\n",
        "def computer_guess(x):\n",
        "  low = 1\n",
        "  high = x\n",
        "  feedback = ''\n",
        "  while feedback != 'c':\n",
        "    guess = random.randint(low, high)\n",
        "    feedback = input(f'Is {guess} too high {H}, too low {L}, or correct {C}?? ')\n",
        "    if feedback == 'h':\n",
        "      high = guess - 1\n",
        "\n",
        "    elif feedback == 'l':\n",
        "      low = guess + 1\n",
        "\n",
        "print(f'yay, computer guess your number, {guess}, correctly!')\n",
        "\n",
        "\n",
        "computer_guess(10)\n",
        "   \n",
        "\n"
      ]
    },
    {
      "cell_type": "code",
      "source": [
        ""
      ],
      "metadata": {
        "id": "r3WhRg58eQks"
      },
      "execution_count": null,
      "outputs": []
    },
    {
      "cell_type": "code",
      "execution_count": null,
      "metadata": {
        "id": "6eNGJwhJ5Npr",
        "colab": {
          "base_uri": "https://localhost:8080/"
        },
        "outputId": "3d382598-7dda-413d-c4ec-1f011233ff53"
      },
      "outputs": [
        {
          "output_type": "stream",
          "name": "stdout",
          "text": [
            "please input your reactants, this is case sensitive\n",
            "your input should look like: H2O+Ag3(Fe3O)4\n",
            "Reactants: Ca(OH)2+H3PO4\n",
            "please input your products, this is case sensitive\n",
            "Products: Ca3(PO4)2+H2O\n",
            "3Ca(OH)2 + 2H3PO4 -> 1Ca3(PO4)2 + 6H2O\n"
          ]
        }
      ],
      "source": [
        "import re\n",
        "from sympy import Matrix, lcm\n",
        "elementList=[]\n",
        "elementMatrix=[]\n",
        "print(\"please input your reactants, this is case sensitive\")\n",
        "print(\"your input should look like: H2O+Ag3(Fe3O)4\")\n",
        "reactants=input(\"Reactants: \")\n",
        "print(\"please input your products, this is case sensitive\")\n",
        "products=input(\"Products: \")\n",
        "reactants=reactants.replace(' ', '').split(\"+\")\n",
        "products=products.replace(' ', '').split(\"+\")\n",
        "def addToMatrix(element, index, count, side):\n",
        "    if(index == len(elementMatrix)):\n",
        "       elementMatrix.append([])\n",
        "       for x in elementList:\n",
        "            elementMatrix[index].append(0)\n",
        "    if(element not in elementList):\n",
        "        elementList.append(element)\n",
        "        for i in range(len(elementMatrix)):\n",
        "            elementMatrix[i].append(0)\n",
        "    column=elementList.index(element)\n",
        "    elementMatrix[index][column]+=count*side\n",
        "    \n",
        "def findElements(segment,index, multiplier, side):\n",
        "    elementsAndNumbers=re.split('([A-Z][a-z]?)',segment)\n",
        "    i=0\n",
        "    while(i<len(elementsAndNumbers)-1):#last element always blank\n",
        "          i+=1\n",
        "          if(len(elementsAndNumbers[i])>0):\n",
        "            if(elementsAndNumbers[i+1].isdigit()):\n",
        "                count=int(elementsAndNumbers[i+1])*multiplier\n",
        "                addToMatrix(elementsAndNumbers[i], index, count, side)\n",
        "                i+=1\n",
        "            else:\n",
        "                addToMatrix(elementsAndNumbers[i], index, multiplier, side)        \n",
        "    \n",
        "def compoundDecipher(compound, index, side):\n",
        "    segments=re.split('(\\([A-Za-z0-9]*\\)[0-9]*)',compound)    \n",
        "    for segment in segments:\n",
        "        if segment.startswith(\"(\"):\n",
        "            segment=re.split('\\)([0-9]*)',segment)\n",
        "            multiplier=int(segment[1])\n",
        "            segment=segment[0][1:]\n",
        "        else:\n",
        "            multiplier=1\n",
        "        findElements(segment, index, multiplier, side)\n",
        "            \n",
        "for i in range(len(reactants)):\n",
        "    compoundDecipher(reactants[i],i,1)\n",
        "for i in range(len(products)):\n",
        "    compoundDecipher(products[i],i+len(reactants),-1)\n",
        "elementMatrix = Matrix(elementMatrix)\n",
        "elementMatrix = elementMatrix.transpose()\n",
        "solution=elementMatrix.nullspace()[0]\n",
        "multiple = lcm([val.q for val in solution])\n",
        "solution = multiple*solution\n",
        "coEffi=solution.tolist()\n",
        "output=\"\"\n",
        "for i in range(len(reactants)):\n",
        "    output+=str(coEffi[i][0])+reactants[i]\n",
        "    if i<len(reactants)-1:\n",
        "       output+=\" + \"\n",
        "output+=\" -> \"\n",
        "for i in range(len(products)):\n",
        "   output+=str(coEffi[i+len(reactants)][0])+products[i]\n",
        "   if i<len(products)-1:\n",
        "       output+=\" + \"\n",
        "print(output)\n",
        "\n",
        "\n",
        "\n",
        "\n",
        "\n",
        "\n",
        "\n",
        "\n",
        "\n",
        "\n",
        "\n",
        "\n"
      ]
    },
    {
      "cell_type": "code",
      "execution_count": null,
      "metadata": {
        "id": "q_U8q21J5QYP"
      },
      "outputs": [],
      "source": [
        ""
      ]
    }
  ],
  "metadata": {
    "colab": {
      "collapsed_sections": [],
      "name": "Summer-Practice.ipynb",
      "provenance": [],
      "authorship_tag": "ABX9TyMJbCAsteCxLRYlB1zV2+vr",
      "include_colab_link": true
    },
    "kernelspec": {
      "display_name": "Python 3",
      "name": "python3"
    },
    "language_info": {
      "name": "python"
    }
  },
  "nbformat": 4,
  "nbformat_minor": 0
}